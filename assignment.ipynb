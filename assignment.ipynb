{
 "cells": [
  {
   "cell_type": "code",
   "execution_count": 38,
   "metadata": {},
   "outputs": [],
   "source": [
    "import pandas as pd \n",
    "import numpy as np"
   ]
  },
  {
   "cell_type": "code",
   "execution_count": null,
   "metadata": {},
   "outputs": [],
   "source": [
    "df = pd.read_excel('transactiondata.xlsx')\n",
    "df.head()"
   ]
  },
  {
   "cell_type": "code",
   "execution_count": null,
   "metadata": {},
   "outputs": [],
   "source": [
    "df.describe(include='all')"
   ]
  },
  {
   "cell_type": "code",
   "execution_count": null,
   "metadata": {},
   "outputs": [],
   "source": [
    "df.columns"
   ]
  },
  {
   "cell_type": "code",
   "execution_count": null,
   "metadata": {},
   "outputs": [],
   "source": [
    "# Family spending habits\n",
    "familydf = df[['Family ID','Income', 'Savings', 'Monthly Expenses', 'Loan Payments','Credit Card Spending', 'Dependents', 'Financial Goals Met (%)']]\n",
    "familydf = familydf.drop_duplicates()\n",
    "familydf"
   ]
  },
  {
   "cell_type": "code",
   "execution_count": null,
   "metadata": {},
   "outputs": [],
   "source": [
    "# Member specific spending habits\n",
    "memberdf = df[['Family ID', 'Category', 'Amount']]\n",
    "vis1 = df[['Category', 'Amount']]\n",
    "memberdf"
   ]
  },
  {
   "cell_type": "code",
   "execution_count": null,
   "metadata": {},
   "outputs": [],
   "source": [
    "# Let us explore the member specific spending habits and the see what we can learn\n",
    "memberdf['Category'].unique()"
   ]
  },
  {
   "cell_type": "code",
   "execution_count": null,
   "metadata": {},
   "outputs": [],
   "source": [
    "# Perhaps if we combine all the expenses and split them into lavish and neccesary expenditures\n",
    "memberdf.loc[memberdf['Category'].isin(['Travel', 'Food', 'Entertainment']),'Type'] = 'Lavish'\n",
    "memberdf.loc[memberdf['Category'].isin(['Groceries','Healthcare','Education','Utilities']), 'Type'] = 'Necessity'\n",
    "memberdf"
   ]
  },
  {
   "cell_type": "code",
   "execution_count": null,
   "metadata": {},
   "outputs": [],
   "source": [
    "memberdf = memberdf[['Family ID', 'Amount', 'Type']].groupby(['Family ID', 'Type']).sum().reset_index()\n",
    "# memberdf['Lavish to Necessity %'] = (memberdf['Amount'][memberdf['Type'] == 'Lavish'] / memberdf['Amount'][memberdf['Type'] == 'Necessity']) * 100\n",
    "memberdf\n"
   ]
  },
  {
   "cell_type": "code",
   "execution_count": null,
   "metadata": {},
   "outputs": [],
   "source": [
    "memberdf = memberdf[['Family ID', 'Amount', 'Type']].pivot(index='Family ID', columns='Type', values='Amount')\n",
    "memberdf['Lavish to Necessity %'] = (memberdf['Lavish'] / memberdf['Necessity']) * 100\n",
    "memberdf = memberdf.reset_index()\n",
    "memberdf"
   ]
  },
  {
   "cell_type": "code",
   "execution_count": null,
   "metadata": {},
   "outputs": [],
   "source": [
    "#Now moving on to familydf\n",
    "familydf.head()"
   ]
  },
  {
   "cell_type": "code",
   "execution_count": null,
   "metadata": {},
   "outputs": [],
   "source": [
    "familydf.describe(include='all')"
   ]
  },
  {
   "cell_type": "code",
   "execution_count": null,
   "metadata": {},
   "outputs": [],
   "source": [
    "familydf.columns"
   ]
  },
  {
   "cell_type": "code",
   "execution_count": null,
   "metadata": {},
   "outputs": [],
   "source": [
    "import seaborn as sns\n",
    "import matplotlib.pyplot as plt\n",
    "family_corr = familydf[['Income', 'Savings', 'Monthly Expenses', 'Loan Payments','Credit Card Spending', 'Dependents', 'Financial Goals Met (%)']].corr()\n",
    "\n",
    "sns.heatmap(family_corr, annot=True, cmap='coolwarm')\n",
    "plt.show()"
   ]
  },
  {
   "cell_type": "code",
   "execution_count": null,
   "metadata": {},
   "outputs": [],
   "source": [
    "# Income vs expense correlation is -0.069\n",
    "# Saving vs Credit Card spending correlation is 0.0058 only\n",
    "sns.pairplot(familydf)\n",
    "plt.show()"
   ]
  },
  {
   "cell_type": "code",
   "execution_count": null,
   "metadata": {},
   "outputs": [],
   "source": [
    "# No genuine correlations. Perhaps some feature engineering\n",
    "# Building Financial scoring model factors simultaneously as instructed\n",
    "familydf['Savings to Income'] = familydf['Savings']/familydf['Income']\n",
    "familydf['Expense Percentage'] = (familydf['Monthly Expenses']/familydf['Income'])*100\n",
    "familydf['Loan Percentage'] = (familydf['Loan Payments']/familydf['Income'])*100\n",
    "familydf['Credit Utilization Percentage'] = (familydf['Credit Card Spending']/familydf['Income'])*100\n",
    "familydf = familydf.merge(memberdf, how='right',on='Family ID')\n",
    "familydf"
   ]
  },
  {
   "cell_type": "code",
   "execution_count": null,
   "metadata": {},
   "outputs": [],
   "source": [
    "familydf.columns"
   ]
  },
  {
   "cell_type": "code",
   "execution_count": null,
   "metadata": {},
   "outputs": [],
   "source": [
    "familydf = familydf.drop(['Lavish','Necessity'], axis='columns')"
   ]
  },
  {
   "cell_type": "code",
   "execution_count": null,
   "metadata": {},
   "outputs": [],
   "source": [
    "familydf.describe(include='all')"
   ]
  },
  {
   "cell_type": "code",
   "execution_count": null,
   "metadata": {},
   "outputs": [],
   "source": [
    "corr_matrix = familydf[['Savings to Income', 'Expense Percentage', 'Loan Percentage', 'Credit Utilization Percentage','Financial Goals Met (%)','Lavish to Necessity %']].corr()\n",
    "\n",
    "plt.figure(figsize=(10, 8))\n",
    "sns.heatmap(corr_matrix, annot=True, cmap='coolwarm', fmt=\".2f\", linewidths=0.5)\n",
    "plt.title('Correlation Heatmap of Financial Indicators')\n",
    "plt.show()\n"
   ]
  },
  {
   "cell_type": "code",
   "execution_count": null,
   "metadata": {},
   "outputs": [],
   "source": [
    "# STILL no meaningful relationships. \n",
    "# There is some moderate linear relationship between credit card vs savings ratio and credit card vs expense ratio.\n",
    "# We already saw some correlation (as is obvious) between savings and loan amount"
   ]
  },
  {
   "cell_type": "code",
   "execution_count": null,
   "metadata": {},
   "outputs": [],
   "source": [
    "plt.figure(figsize=(15, 10))\n",
    "familydf[['Savings to Income', 'Expense Percentage', 'Loan Percentage', 'Credit Utilization Percentage','Lavish to Necessity %']].hist(bins=20, edgecolor='black', figsize=(15, 10))\n",
    "plt.tight_layout()\n",
    "plt.show()\n"
   ]
  },
  {
   "cell_type": "code",
   "execution_count": null,
   "metadata": {},
   "outputs": [],
   "source": [
    "# All skewed left, Very few people have more savings than is their income; Most people have only 2-5% of their income as expenses. \n",
    "# There is definitely more to learn by utilizing scikit learn as in non-linear relationships (unfortunately, not equipped to handle those yet)\n",
    "# Now we must try to build a scoring model using all the information we've learned about the dataset"
   ]
  },
  {
   "cell_type": "code",
   "execution_count": null,
   "metadata": {},
   "outputs": [],
   "source": [
    "# Firstly, lets normalize all the scores we will use for building the scoring schema\n",
    "def normalize(record):\n",
    "    return (record - record.min())/(record.max() - record.min())*100\n",
    "\n",
    "familydf['Savings to Income'] = normalize(familydf['Savings to Income'])\n",
    "familydf['Expense Percentage'] = normalize(familydf['Expense Percentage'])\n",
    "familydf['Loan Percentage'] = normalize(familydf['Loan Percentage'])\n",
    "familydf['Credit Utilization Percentage'] = normalize(familydf['Credit Utilization Percentage'])\n",
    "familydf['Lavish to Necessity %'] = normalize(familydf['Lavish to Necessity %'])\n",
    "familydf"
   ]
  },
  {
   "cell_type": "code",
   "execution_count": null,
   "metadata": {},
   "outputs": [],
   "source": [
    "# Now I'll have to apply weights to each of these based on how much they potentially impact the financial health of a family\n",
    "familydf.columns"
   ]
  },
  {
   "cell_type": "code",
   "execution_count": null,
   "metadata": {},
   "outputs": [],
   "source": [
    "familydf[['Financial Goals Met (%)','Savings to Income', 'Expense Percentage', 'Loan Percentage','Credit Utilization Percentage', 'Lavish to Necessity %']].corr()"
   ]
  },
  {
   "cell_type": "code",
   "execution_count": null,
   "metadata": {},
   "outputs": [],
   "source": [
    "# Trying a linear model first to see if we can get acceptable \n",
    "from sklearn.ensemble import RandomForestRegressor\n",
    "from sklearn.model_selection import train_test_split\n",
    "from sklearn.metrics import mean_squared_error\n",
    "import joblib\n",
    "\n",
    "X = familydf[['Savings to Income', 'Expense Percentage', 'Loan Percentage','Credit Utilization Percentage', 'Lavish to Necessity %']]\n",
    "y = familydf['Financial Goals Met (%)']\n",
    "\n",
    "X_train, X_test, y_train, y_test = train_test_split(X,y,random_state=20)\n",
    "\n",
    "scoremodel = RandomForestRegressor(random_state=20)\n",
    "scoremodel.fit(X_train, y_train)\n",
    "y_predicted = scoremodel.predict(X_test)\n",
    "mse = mean_squared_error(y_test, y_predicted)\n",
    "print(mse)\n",
    "\n",
    "# MSE is obviously too high ~20% points\n"
   ]
  },
  {
   "cell_type": "code",
   "execution_count": null,
   "metadata": {},
   "outputs": [],
   "source": [
    "# For the purposes of this assignment, due to my knowledge and time constraints, i will unfortunately have to use static weights to calculate the financial score. \n",
    "# I'll have to compare how much impact each of the features have made with the 'Financial Goals met'\n",
    "# I'll use (Corr Score/Total Corr Score) in % here\n",
    "# Total corr score = 0.434; Feature scores respectively: 8%, 22%, 12%, 33%, 25% (rounded off)\n",
    "weights = {\n",
    "    'savingstoincomescore': 0.08,\n",
    "    'expensepercentagescore': 0.22,\n",
    "    'loanpercentagescore': 0.12,\n",
    "    'creditutilizationscore': 0.33,\n",
    "    'lifestylescore': 0.25\n",
    "}"
   ]
  },
  {
   "cell_type": "code",
   "execution_count": null,
   "metadata": {},
   "outputs": [],
   "source": [
    "familydf['Financial Score'] = (\n",
    "    familydf['Savings to Income'] * weights['savingstoincomescore'] + familydf['Expense Percentage'] * weights['expensepercentagescore'] + familydf['Loan Percentage'] * weights['loanpercentagescore'] + familydf['Credit Utilization Percentage'] * weights['creditutilizationscore'] + familydf['Lavish to Necessity %'] * weights['lifestylescore']\n",
    ")\n",
    "familydf.head()"
   ]
  },
  {
   "cell_type": "code",
   "execution_count": null,
   "metadata": {},
   "outputs": [],
   "source": [
    "familydf.describe(include='all')"
   ]
  },
  {
   "cell_type": "code",
   "execution_count": null,
   "metadata": {},
   "outputs": [],
   "source": [
    "sns.histplot(familydf['Financial Score'], bins=20,)\n",
    "plt.show()"
   ]
  },
  {
   "cell_type": "code",
   "execution_count": null,
   "metadata": {},
   "outputs": [],
   "source": [
    "# Now to add the recommendations based on their scores\n",
    "def recommendations(row):\n",
    "    \n",
    "    recommendations = []\n",
    "    # less than the median (50% in .describe())\n",
    "    if row['Savings to Income'] < 18:\n",
    "        recommendations += ['Try saving more of your money wrt income']\n",
    "    elif row['Expense Percentage'] < 17:\n",
    "        recommendations += ['Attempt reducing your expenses']\n",
    "    elif row['Loan Percentage'] < 20:\n",
    "        recommendations += ['Perhaps try reducing your debt burden']\n",
    "    elif row['Credit Utilization Percentage'] < 20:\n",
    "        recommendations += ['Try cutting back on credit card purchases']\n",
    "    elif row['Lavish to Necessity %'] < 47:\n",
    "        recommendations += ['Try being more mindful of your purchase requirements']\n",
    "\n",
    "    return recommendations\n",
    "\n",
    "familydf['Recommendations'] = familydf.apply(recommendations, axis=1)\n",
    "familydf"
   ]
  },
  {
   "cell_type": "code",
   "execution_count": null,
   "metadata": {},
   "outputs": [],
   "source": [
    "# Visualizations as instructed\n",
    "# Spending distribution across categories.\n",
    "vis1 =  vis1.groupby(['Category']).sum()\n",
    "vis1 = vis1.reset_index()\n",
    "vis1\n",
    "plt.figure(figsize=(12,9))\n",
    "plt.bar(vis1['Category'], vis1['Amount'])\n",
    "plt.show()"
   ]
  },
  {
   "cell_type": "code",
   "execution_count": null,
   "metadata": {},
   "outputs": [],
   "source": [
    "# Family wise financial score\n",
    "plt.figure(figsize=(12,9))\n",
    "plt.bar(familydf['Family ID'],familydf['Financial Score'])\n",
    "plt.show()"
   ]
  },
  {
   "cell_type": "code",
   "execution_count": null,
   "metadata": {},
   "outputs": [],
   "source": [
    "# Histogram of financial scores\n",
    "plt.figure(figsize=(12, 9))\n",
    "sns.histplot(familydf['Financial Score'], bins=20, kde=True)\n",
    "plt.show()"
   ]
  },
  {
   "cell_type": "code",
   "execution_count": null,
   "metadata": {},
   "outputs": [],
   "source": [
    "# "
   ]
  }
 ],
 "metadata": {
  "kernelspec": {
   "display_name": ".venv",
   "language": "python",
   "name": "python3"
  },
  "language_info": {
   "codemirror_mode": {
    "name": "ipython",
    "version": 3
   },
   "file_extension": ".py",
   "mimetype": "text/x-python",
   "name": "python",
   "nbconvert_exporter": "python",
   "pygments_lexer": "ipython3",
   "version": "3.11.9"
  }
 },
 "nbformat": 4,
 "nbformat_minor": 2
}
